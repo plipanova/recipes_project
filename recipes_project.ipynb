{
 "cells": [
  {
   "cell_type": "code",
   "execution_count": null,
   "id": "initial_id",
   "metadata": {
    "collapsed": true
   },
   "outputs": [],
   "source": [
    "import pandas as pd\n",
    "import numpy as np\n",
    "import matplotlib.pyplot as plt\n",
    "from sqlalchemy import create_engine"
   ]
  },
  {
   "cell_type": "markdown",
   "source": [
    "Первое, что я сделала - загрузила данные с сайта \"eda.ru\" (код представлен в отдельном файле food.py ) В дальнейшем мы будем работать с датафреймом, составленным по этим данным. "
   ],
   "metadata": {
    "collapsed": false
   },
   "id": "23978d6579776958"
  },
  {
   "cell_type": "code",
   "outputs": [],
   "source": [
    "recipes = pd.read_csv('food.csv')"
   ],
   "metadata": {
    "collapsed": false
   },
   "id": "ddf85ee8679678",
   "execution_count": null
  },
  {
   "cell_type": "markdown",
   "source": [],
   "metadata": {
    "collapsed": false
   },
   "id": "36517bb0ab9841c6"
  },
  {
   "cell_type": "code",
   "outputs": [],
   "source": [
    "recipes.head(10)"
   ],
   "metadata": {
    "collapsed": false
   },
   "id": "781c7764bbcac733",
   "execution_count": null
  },
  {
   "cell_type": "markdown",
   "source": [
    "Первое, что пришло в голову, это посмотреть, какие категории еды чаще всего встречаются на этом сайте. "
   ],
   "metadata": {
    "collapsed": false
   },
   "id": "66ea1e7b928902d7"
  },
  {
   "cell_type": "code",
   "outputs": [],
   "source": [
    "category_data = recipes['категория'].value_counts()\n",
    "category_data.head(10)"
   ],
   "metadata": {
    "collapsed": false
   },
   "id": "677c594497a5c495",
   "execution_count": null
  },
  {
   "cell_type": "code",
   "outputs": [],
   "source": [
    "category_data = category_data.to_frame()\n",
    "categories = category_data.index.tolist()\n",
    "counter = category_data['count'].tolist()\n",
    "category_data.plot.pie(figsize=(8, 8), subplots=True)\n"
   ],
   "metadata": {
    "collapsed": false
   },
   "id": "6e29922db721b90c",
   "execution_count": null
  },
  {
   "cell_type": "code",
   "outputs": [],
   "source": [
    "most_popular_category = category_data[category_data['count'] == max(counter)].index.tolist()[0]\n",
    "least_popular_category = category_data[category_data['count'] == min(counter)].index.tolist()[0]\n",
    "print(f'Больше всего рецептов из категори {most_popular_category}, меньше всего из {least_popular_category}')"
   ],
   "metadata": {
    "collapsed": false
   },
   "id": "69176c95556ab665",
   "execution_count": null
  },
  {
   "cell_type": "markdown",
   "source": [
    "Теперь давайте посмотрим, какая кухня чаще всего встречается"
   ],
   "metadata": {
    "collapsed": false
   },
   "id": "88849538f98eaa42"
  },
  {
   "cell_type": "code",
   "outputs": [],
   "source": [
    "cuisine_data = recipes['кухня'].value_counts()\n",
    "cuisine_data.head(10)"
   ],
   "metadata": {
    "collapsed": false
   },
   "id": "4c0ace51c69300e9",
   "execution_count": null
  },
  {
   "cell_type": "code",
   "outputs": [],
   "source": [
    "cuisine_data = cuisine_data.to_frame()\n",
    "cuisine = cuisine_data.index.tolist()\n",
    "counter = cuisine_data['count'].tolist()\n",
    "category_data.plot.pie(figsize=(8, 8), subplots=True)"
   ],
   "metadata": {
    "collapsed": false
   },
   "id": "cb17ddcfb0015087",
   "execution_count": null
  },
  {
   "cell_type": "code",
   "outputs": [],
   "source": [
    "most_popular_cuisine = cuisine_data[cuisine_data['count'] == max(counter)].index.tolist()[0]\n",
    "least_popular_cuisine = cuisine_data[cuisine_data['count'] == min(counter)].index.tolist()[0]\n",
    "print(f'Наиболее популярна {most_popular_cuisine}, наименее - {least_popular_cuisine}')"
   ],
   "metadata": {
    "collapsed": false
   },
   "id": "b3924bf0053c6e16",
   "execution_count": null
  },
  {
   "cell_type": "markdown",
   "source": [],
   "metadata": {
    "collapsed": false
   },
   "id": "bd62242bacd2c762"
  },
  {
   "cell_type": "markdown",
   "source": [
    "Теперь можно приступить к более детальному анализу"
   ],
   "metadata": {
    "collapsed": false
   },
   "id": "b458920e0e3974e7"
  },
  {
   "cell_type": "markdown",
   "source": [
    "Я хочу проверить гипотезу о том, что есть отрицательная зависимость между количеством ингредиентов и количеством сохранений.Зачем тратить много денег на ингредиенты, если за эту же сумму можно заказать вкусное готовое блюдо. Для проверки гипотезы я сначала построю матрицу корреляции. Для этого нужно перевести некоторые значения в целочисленные "
   ],
   "metadata": {
    "collapsed": false
   },
   "id": "6459062ec48eb350"
  },
  {
   "cell_type": "code",
   "outputs": [],
   "source": [
    "prepare_time = recipes['время приготовления'].to_list()\n",
    "int_prepare_time = list()\n",
    "for item in prepare_time:\n",
    "    lst = item.split()\n",
    "    if len(lst) == 2:\n",
    "        if 'минут' in lst[1]:\n",
    "            item = int(lst[0])\n",
    "            int_prepare_time.append(item)\n",
    "        elif 'час' in lst[1]: # переводим часы в минуты\n",
    "            item = int(lst[0]) * 60\n",
    "            int_prepare_time.append(item)\n",
    "        elif 'сут' in lst[1]: # переводим сутки в минуты\n",
    "            item = int(lst[0]) * 24 * 60\n",
    "            int_prepare_time.append(item)\n",
    "    elif len(lst) == 4:\n",
    "        item = int(lst[0].strip()) * 60 + int(lst[2].strip())\n",
    "        int_prepare_time.append(item)\n",
    "\n",
    "ingredients_count = recipes['кол-во ингредиентов'].to_list()\n",
    "int_ingredients_count = list()\n",
    "for item in ingredients_count: # переводим значения из столбца \"кол-во ингредиентов\" в целочисленные\n",
    "    lst = item.split()\n",
    "    int_ingredients_count.append(int(lst[0]))\n",
    "    \n",
    "portions_count = recipes['кол-во порций'].to_list()\n",
    "int_portions_count = list()\n",
    "for item in ingredients_count: # переводим значения из столбца \"кол-во порций\" в целочисленные\n",
    "    lst = item.split()\n",
    "    int_portions_count.append(int(lst[0]))\n",
    "    \n",
    "save_count = recipes['кол-во сохранений'].to_list()# Сохраняем количества сохранений в отдельный список \n",
    "like_count = recipes['кол-во лайков'].to_list() #Аналогичное делаем с количеством лайков \n",
    "dislike_count = recipes['кол-во дизлайков'].to_list() #И с количеством дизлайков\n",
    " \n",
    "#Сделаем новый датафрейм для удобства\n",
    "data = {'кол-ва сохранений' : save_count, 'кол-во лайков' : like_count, 'кол-во дизлайков' : dislike_count, 'кол-во порций' : int_portions_count, 'кол-во ингредиентов' : int_ingredients_count, 'время приготовления' : int_prepare_time}\n",
    "df = pd.DataFrame(data, columns=['кол-ва сохранений','кол-во лайков', 'кол-во дизлайков', 'кол-во порций', 'кол-во ингредиентов', 'время приготовления'])\n",
    "df.tail(5)"
   ],
   "metadata": {
    "collapsed": false
   },
   "id": "287d367328fcf191",
   "execution_count": null
  },
  {
   "cell_type": "markdown",
   "source": [
    "Теперь все готово, чтобы строить корреляционную матрицу!"
   ],
   "metadata": {
    "collapsed": false
   },
   "id": "f4108bca4c96d5b8"
  },
  {
   "cell_type": "code",
   "outputs": [],
   "source": [
    "corr = df.corr()\n",
    "corr.style.background_gradient(cmap='RdYlGn')"
   ],
   "metadata": {
    "collapsed": false
   },
   "id": "df2b0a4aa89cb84a",
   "execution_count": null
  },
  {
   "cell_type": "markdown",
   "source": [
    "Из матрицы корреляции можно сделать много интересных выводов! Например, видно,что моя гипотеза подтвердилась! Действительно, между количеством ингредиентов и количеством сохранений есть отрицательная зависимость, однако совсем незначительная. \n",
    " Также можно заметить, что между количеством лайков и дизлайков положительная зависимость, что логично. Чем больше людей посмотрели рецепт, тем большему количеству он как понравится, так и не понравится. Еще видно, что люди не любят тратить много времени на готовку и я не могу не согласиться. "
   ],
   "metadata": {
    "collapsed": false
   },
   "id": "a30f211eea8c9784"
  },
  {
   "cell_type": "markdown",
   "source": [
    "Теперь я построю график, связывающий количество сохранений и количество ингредиентов, чтобы наглядно продемонстрировать зависимость. \n"
   ],
   "metadata": {
    "collapsed": false
   },
   "id": "dcf8170f159c835d"
  },
  {
   "cell_type": "markdown",
   "source": [
    "Сначала отсортируем датафрейм по возрастанию сохранений\n"
   ],
   "metadata": {
    "collapsed": false
   },
   "id": "4bdf00d72ecf219f"
  },
  {
   "cell_type": "code",
   "outputs": [],
   "source": [
    "df = df.sort_values(by='кол-ва сохранений')\n",
    "print(df.tail(5))    "
   ],
   "metadata": {
    "collapsed": false
   },
   "id": "b1028352848fef86",
   "execution_count": null
  },
  {
   "cell_type": "markdown",
   "source": [
    "Итак, все готово, чтобы строить график"
   ],
   "metadata": {
    "collapsed": false
   },
   "id": "c8c5b1b2d4e0a86c"
  },
  {
   "cell_type": "code",
   "outputs": [],
   "source": [
    "#Строим график\n",
    "fig, ax = plt.subplots(figsize=(20, 10))\n",
    "plt.plot(df['кол-ва сохранений'], df['кол-во ингредиентов'])\n",
    "plt.xticks(rotation=45)\n",
    "plt.grid(True)\n",
    "plt.xlabel('кол-ва сохранений', fontsize=20)\n",
    "plt.ylabel('кол-во ингредиентов', fontsize=20)\n",
    "plt.title('Зависимость между количеством сохранений и количеством ингредиентов', fontsize=20) \n",
    "#Посчитаем линию тренда\n",
    "z = np.polyfit (df['кол-ва сохранений'], df['кол-во ингредиентов'], 1 )\n",
    "p = np.poly1d (z)\n",
    "#Добавим линию тренда\n",
    "plt.plot (df['кол-ва сохранений'], p(df['кол-ва сохранений'])) \n",
    "plt.show()\n"
   ],
   "metadata": {
    "collapsed": false
   },
   "id": "4717ff3f52c53036",
   "execution_count": null
  },
  {
   "cell_type": "markdown",
   "source": [
    "Таким образом, линия тренда показывает отрицательную зависимость, что с увеличением кол-ва сохранений кол-во ингредиентов падает!"
   ],
   "metadata": {
    "collapsed": false
   },
   "id": "fa79b5560f3f3b58"
  },
  {
   "cell_type": "markdown",
   "source": [
    "Теперь давате найдем кухню с \"наилучшим\" соотношением лайков и дизлайков . Моя гипотеза в том, что это просто обязана быть итальянская кухня."
   ],
   "metadata": {
    "collapsed": false
   },
   "id": "f70cac6af37c9e46"
  },
  {
   "cell_type": "markdown",
   "source": [
    "Убираем пробелы из названий для работы с sql"
   ],
   "metadata": {
    "collapsed": false
   },
   "id": "bdab390023f7186b"
  },
  {
   "cell_type": "code",
   "outputs": [],
   "source": [
    "recipes = recipes.rename(columns={'вид меню': 'вид_меню', 'кол-во ингредиентов': 'кол-во_ингредиентов', 'кол-во лайков': 'лайки', 'кол-во дизлайков': 'дизлайки'})\n",
    "recipes.head(10)"
   ],
   "metadata": {
    "collapsed": false
   },
   "id": "20f3f9908706f5a1",
   "execution_count": null
  },
  {
   "cell_type": "code",
   "outputs": [],
   "source": [
    "engine = create_engine('sqlite:///recipes_db.sqlite')\n",
    "\n",
    "recipes.to_sql('recipes', engine, if_exists='replace')"
   ],
   "metadata": {
    "collapsed": false
   },
   "id": "b972db3a1d7d54a8",
   "execution_count": null
  },
  {
   "cell_type": "code",
   "outputs": [],
   "source": [
    "%load_ext sql"
   ],
   "metadata": {
    "collapsed": false
   },
   "id": "bae963677fe965c4",
   "execution_count": null
  },
  {
   "cell_type": "code",
   "outputs": [],
   "source": [
    "%sql sqlite:///recipes_db.sqlite"
   ],
   "metadata": {
    "collapsed": false
   },
   "id": "299c4fe436f37b24",
   "execution_count": null
  },
  {
   "cell_type": "code",
   "outputs": [],
   "source": [
    "%%sql\n",
    "WITH help as (SELECT кухня, AVG(лайки/дизлайки) AS Среднее_отношение_лайков_к_дизлайкам\n",
    "FROM recipes\n",
    "GROUP BY 1)\n",
    "\n",
    "SELECT кухня, MAX(Среднее_отношение_лайков_к_дизлайкам) FROM help\n",
    ";"
   ],
   "metadata": {
    "collapsed": false
   },
   "id": "85e848b7d6e43a90",
   "execution_count": null
  },
  {
   "cell_type": "markdown",
   "source": [
    "Получили неожиданный результат! Видимо, стоит попробовать норвежскую кухню)"
   ],
   "metadata": {
    "collapsed": false
   },
   "id": "a3a1fcc937b9a065"
  },
  {
   "cell_type": "markdown",
   "source": [
    "Напоследок давайте выведем самое вкусное блюдо на основе данных"
   ],
   "metadata": {
    "collapsed": false
   },
   "id": "d5f50ca66fb6ea54"
  },
  {
   "cell_type": "code",
   "outputs": [],
   "source": [
    "%%sql\n",
    "WITH help as (SELECT название, кухня, AVG(лайки/дизлайки) AS Среднее_отношение_лайков_к_дизлайкам\n",
    "FROM recipes\n",
    "GROUP BY 1)\n",
    "\n",
    "SELECT название,кухня, MAX(Среднее_отношение_лайков_к_дизлайкам) FROM help\n",
    ";"
   ],
   "metadata": {
    "collapsed": false
   },
   "id": "36105fa40b293dd3",
   "execution_count": null
  },
  {
   "cell_type": "markdown",
   "source": [
    "Звучит очень вкусно!"
   ],
   "metadata": {
    "collapsed": false
   },
   "id": "5e557f8743293d09"
  },
  {
   "cell_type": "markdown",
   "source": [
    "На этом я завершаю свой проект. Всем приятного аппетита!"
   ],
   "metadata": {
    "collapsed": false
   },
   "id": "8802f89bb71cb743"
  },
  {
   "cell_type": "markdown",
   "source": [],
   "metadata": {
    "collapsed": false
   },
   "id": "ab67558950bb422e"
  }
 ],
 "metadata": {
  "kernelspec": {
   "display_name": "Python 3",
   "language": "python",
   "name": "python3"
  },
  "language_info": {
   "codemirror_mode": {
    "name": "ipython",
    "version": 2
   },
   "file_extension": ".py",
   "mimetype": "text/x-python",
   "name": "python",
   "nbconvert_exporter": "python",
   "pygments_lexer": "ipython2",
   "version": "2.7.6"
  }
 },
 "nbformat": 4,
 "nbformat_minor": 5
}
